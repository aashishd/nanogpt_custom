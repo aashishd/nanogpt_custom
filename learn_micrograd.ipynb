{
 "cells": [
  {
   "cell_type": "code",
   "execution_count": 65,
   "metadata": {},
   "outputs": [],
   "source": [
    "import math\n",
    "import numpy as np\n",
    "import matplotlib.pyplot as plt\n",
    "%matplotlib inline"
   ]
  },
  {
   "cell_type": "code",
   "execution_count": 66,
   "metadata": {},
   "outputs": [],
   "source": [
    "def f(x):\n",
    "    return 3*x**2 +6*x + 10"
   ]
  },
  {
   "cell_type": "code",
   "execution_count": 67,
   "metadata": {},
   "outputs": [],
   "source": [
    "xs = np.arange(-5, 5, 0.25)\n",
    "ys = f(xs)"
   ]
  },
  {
   "cell_type": "code",
   "execution_count": 68,
   "metadata": {},
   "outputs": [
    {
     "data": {
      "text/plain": [
       "[<matplotlib.lines.Line2D at 0xffff63d74950>]"
      ]
     },
     "execution_count": 68,
     "metadata": {},
     "output_type": "execute_result"
    },
    {
     "data": {
      "image/png": "[encoded data removed]",
      "text/plain": [
       "<Figure size 640x480 with 1 Axes>"
      ]
     },
     "metadata": {},
     "output_type": "display_data"
    }
   ],
   "source": [
    "plt.plot(xs, ys)"
   ]
  },
  {
   "cell_type": "code",
   "execution_count": 69,
   "metadata": {},
   "outputs": [
    {
     "name": "stdout",
     "output_type": "stream",
     "text": [
      "x=-2.0 \n",
      "f(x)=10.0\n",
      "f(x+h)=9.999994000003\n",
      "(f(x+h) - f(x))/h=-5.999997000571966\n"
     ]
    }
   ],
   "source": [
    "# plt.plot(xs, ys)\n",
    "h = 0.000001\n",
    "x = -2.\n",
    "print(f'{x=} \\n{f(x)=}\\n{f(x+h)=}')\n",
    "print(f'{(f(x+h) - f(x))/h=}')"
   ]
  },
  {
   "cell_type": "code",
   "execution_count": 70,
   "metadata": {},
   "outputs": [
    {
     "name": "stdout",
     "output_type": "stream",
     "text": [
      "default 4.0\n"
     ]
    }
   ],
   "source": [
    "# getting slope for more complex functions\n",
    "a = 2.\n",
    "b = -3.0\n",
    "c = 10.\n",
    "\n",
    "def f1(a, b , c):\n",
    "    return a*b + c\n",
    "\n",
    "d = f1(a, b, c)\n",
    "print('default', d)"
   ]
  },
  {
   "cell_type": "code",
   "execution_count": 71,
   "metadata": {},
   "outputs": [
    {
     "name": "stdout",
     "output_type": "stream",
     "text": [
      "3.999699999999999\n",
      "slope wrt a -3.000000000010772\n",
      "4.0002\n",
      "slope wrt b 2.0000000000042206\n",
      "4.0001\n",
      "slope wrt c 0.9999999999976694\n"
     ]
    }
   ],
   "source": [
    "# slope of f1 wrt a\n",
    "h = 0.0001\n",
    "\n",
    "d1 = f1(a+h, b, c)\n",
    "print(f'{d1}')\n",
    "print('slope wrt a', (d1 - d)/h) # should be -3 if we take derivative by hand\n",
    "\n",
    "d2 = f1(a, b+h, c)\n",
    "print(f'{d2}')\n",
    "print('slope wrt b', (d2 - d)/h) # should be 2 if we take derivative by hand\n",
    "\n",
    "d3 = f1(a, b, c+h)\n",
    "print(f'{d3}')\n",
    "print('slope wrt c', (d3 - d)/h) # should be 1 if we take derivative by hand\n"
   ]
  },
  {
   "cell_type": "code",
   "execution_count": 72,
   "metadata": {},
   "outputs": [],
   "source": [
    "class Value:\n",
    "    def __init__(self, data, label='', _children=(), _op='') -> None:\n",
    "        self.data = data\n",
    "        self._prev = set(_children) #it's for setting points to objects which change the value of this object\n",
    "        self._op = _op\n",
    "        self.label = label\n",
    "        self.grad = 0.0\n",
    "    \n",
    "    def __repr__(self) -> str:\n",
    "        return f'Value({self.data})'\n",
    "    \n",
    "    def __add__(self, other):\n",
    "        return Value(self.data + other.data,f\"{self.label} + {other.label}\", (self, other), '+')\n",
    "    \n",
    "    def __mul__(self, other):\n",
    "        return Value(self.data * other.data, f\"{self.label} * {other.label}\", (self, other), '*')"
   ]
  },
  {
   "cell_type": "code",
   "execution_count": 73,
   "metadata": {},
   "outputs": [
    {
     "name": "stdout",
     "output_type": "stream",
     "text": [
      "Value(4)\n",
      "Value(-3.0)\n",
      "Value(1.0)\n",
      "Value(-12.0)\n",
      "Value(4.0)\n",
      "{Value(-6.0), Value(10.0)}\n",
      "+\n",
      "a * b + c\n"
     ]
    }
   ],
   "source": [
    "print(Value(4))\n",
    "print(Value(-3.))\n",
    "print(Value(4) + Value(-3.))\n",
    "print(Value(4) * Value(-3.))\n",
    "\n",
    "# create same expression using value\n",
    "a = Value(2., 'a')\n",
    "b = Value(-3., 'b')\n",
    "c = Value(10., 'c')\n",
    "e = a*b; #e.label = 'e'\n",
    "d = e + c; # d.label = 'd'\n",
    "print(d)\n",
    "print(d._prev)\n",
    "print(d._op)\n",
    "print(d.label)\n",
    "f = Value(-2.0, 'f')\n",
    "L = d*f\n",
    "L.label = 'L'"
   ]
  },
  {
   "cell_type": "code",
   "execution_count": 74,
   "metadata": {},
   "outputs": [],
   "source": [
    "from graphviz import Digraph\n",
    "\n",
    "def trace(root):\n",
    "  # builds a set of all nodes and edges in a graph\n",
    "  nodes, edges = set(), set()\n",
    "  def build(v):\n",
    "    if v not in nodes:\n",
    "      nodes.add(v)\n",
    "      for child in v._prev:\n",
    "        edges.add((child, v))\n",
    "        build(child)\n",
    "  build(root)\n",
    "  return nodes, edges\n",
    "\n",
    "def draw_dot(root):\n",
    "  dot = Digraph(format='svg', graph_attr={'rankdir': 'LR'}) # LR = left to right\n",
    "  \n",
    "  nodes, edges = trace(root)\n",
    "  for n in nodes:\n",
    "    uid = str(id(n))\n",
    "    # for any value in the graph, create a rectangular ('record') node for it\n",
    "    dot.node(name = uid, label = \"{ %s | data %.4f | grad %.4f }\" % (n.label, n.data, n.grad), shape='record')\n",
    "    if n._op:\n",
    "      # if this value is a result of some operation, create an op node for it\n",
    "      dot.node(name = uid + n._op, label = n._op)\n",
    "      # and connect this node to it\n",
    "      dot.edge(uid + n._op, uid)\n",
    "\n",
    "  for n1, n2 in edges:\n",
    "    # connect n1 to the op node of n2\n",
    "    dot.edge(str(id(n1)), str(id(n2)) + n2._op)\n",
    "\n",
    "  return dot"
   ]
  },
  {
   "cell_type": "code",
   "execution_count": 76,
   "metadata": {},
   "outputs": [
    {
     "data": {
      "image/svg+xml": [
       "<?xml version=\"1.0\" encoding=\"UTF-8\" standalone=\"no\"?>\n",
       "<!DOCTYPE svg PUBLIC \"-//W3C//DTD SVG 1.1//EN\"\n",
       " \"http://www.w3.org/Graphics/SVG/1.1/DTD/svg11.dtd\">\n",
       "<!-- Generated by graphviz version 2.50.0 (0)\n",
       " -->\n",
       "<!-- Pages: 1 -->\n",
       "<svg width=\"1405pt\" height=\"156pt\"\n",
       " viewBox=\"0.00 0.00 1405.00 156.00\" xmlns=\"http://www.w3.org/2000/svg\" xmlns:xlink=\"http://www.w3.org/1999/xlink\">\n",
       "<g id=\"graph0\" class=\"graph\" transform=\"scale(1 1) rotate(0) translate(4 152)\">\n",
       "<polygon fill=\"white\" stroke=\"transparent\" points=\"-4,4 -4,-152 1401,-152 1401,4 -4,4\"/>\n",
       "<!-- 281472356031952 -->\n",
       "<g id=\"node1\" class=\"node\">\n",
       "<title>281472356031952</title>\n",
       "<polygon fill=\"none\" stroke=\"black\" points=\"0,-111.5 0,-147.5 237,-147.5 237,-111.5 0,-111.5\"/>\n",
       "<text text-anchor=\"middle\" x=\"13\" y=\"-125.8\" font-family=\"Times,serif\" font-size=\"14.00\">b</text>\n",
       "<polyline fill=\"none\" stroke=\"black\" points=\"26,-111.5 26,-147.5 \"/>\n",
       "<text text-anchor=\"middle\" x=\"79.5\" y=\"-125.8\" font-family=\"Times,serif\" font-size=\"14.00\">data &#45;3.0000</text>\n",
       "<polyline fill=\"none\" stroke=\"black\" points=\"133,-111.5 133,-147.5 \"/>\n",
       "<text text-anchor=\"middle\" x=\"185\" y=\"-125.8\" font-family=\"Times,serif\" font-size=\"14.00\">grad 0.0000</text>\n",
       "</g>\n",
       "<!-- 281472355103760* -->\n",
       "<g id=\"node3\" class=\"node\">\n",
       "<title>281472355103760*</title>\n",
       "<ellipse fill=\"none\" stroke=\"black\" cx=\"300\" cy=\"-101.5\" rx=\"27\" ry=\"18\"/>\n",
       "<text text-anchor=\"middle\" x=\"300\" y=\"-97.8\" font-family=\"Times,serif\" font-size=\"14.00\">*</text>\n",
       "</g>\n",
       "<!-- 281472356031952&#45;&gt;281472355103760* -->\n",
       "<g id=\"edge4\" class=\"edge\">\n",
       "<title>281472356031952&#45;&gt;281472355103760*</title>\n",
       "<path fill=\"none\" stroke=\"black\" d=\"M234.96,-111.49C245.12,-109.91 254.8,-108.4 263.41,-107.05\"/>\n",
       "<polygon fill=\"black\" stroke=\"black\" points=\"264.02,-110.5 273.36,-105.5 262.94,-103.58 264.02,-110.5\"/>\n",
       "</g>\n",
       "<!-- 281472355103760 -->\n",
       "<g id=\"node2\" class=\"node\">\n",
       "<title>281472355103760</title>\n",
       "<polygon fill=\"none\" stroke=\"black\" points=\"363,-83.5 363,-119.5 624,-119.5 624,-83.5 363,-83.5\"/>\n",
       "<text text-anchor=\"middle\" x=\"388\" y=\"-97.8\" font-family=\"Times,serif\" font-size=\"14.00\">a * b</text>\n",
       "<polyline fill=\"none\" stroke=\"black\" points=\"413,-83.5 413,-119.5 \"/>\n",
       "<text text-anchor=\"middle\" x=\"466.5\" y=\"-97.8\" font-family=\"Times,serif\" font-size=\"14.00\">data &#45;6.0000</text>\n",
       "<polyline fill=\"none\" stroke=\"black\" points=\"520,-83.5 520,-119.5 \"/>\n",
       "<text text-anchor=\"middle\" x=\"572\" y=\"-97.8\" font-family=\"Times,serif\" font-size=\"14.00\">grad 0.0000</text>\n",
       "</g>\n",
       "<!-- 281472355161680+ -->\n",
       "<g id=\"node8\" class=\"node\">\n",
       "<title>281472355161680+</title>\n",
       "<ellipse fill=\"none\" stroke=\"black\" cx=\"687\" cy=\"-73.5\" rx=\"27\" ry=\"18\"/>\n",
       "<text text-anchor=\"middle\" x=\"687\" y=\"-69.8\" font-family=\"Times,serif\" font-size=\"14.00\">+</text>\n",
       "</g>\n",
       "<!-- 281472355103760&#45;&gt;281472355161680+ -->\n",
       "<g id=\"edge6\" class=\"edge\">\n",
       "<title>281472355103760&#45;&gt;281472355161680+</title>\n",
       "<path fill=\"none\" stroke=\"black\" d=\"M617.68,-83.49C629.41,-81.77 640.54,-80.15 650.28,-78.72\"/>\n",
       "<polygon fill=\"black\" stroke=\"black\" points=\"650.88,-82.17 660.27,-77.26 649.86,-75.25 650.88,-82.17\"/>\n",
       "</g>\n",
       "<!-- 281472355103760*&#45;&gt;281472355103760 -->\n",
       "<g id=\"edge1\" class=\"edge\">\n",
       "<title>281472355103760*&#45;&gt;281472355103760</title>\n",
       "<path fill=\"none\" stroke=\"black\" d=\"M327.23,-101.5C334.68,-101.5 343.35,-101.5 352.74,-101.5\"/>\n",
       "<polygon fill=\"black\" stroke=\"black\" points=\"352.76,-105 362.76,-101.5 352.76,-98 352.76,-105\"/>\n",
       "</g>\n",
       "<!-- 281472355165200 -->\n",
       "<g id=\"node4\" class=\"node\">\n",
       "<title>281472355165200</title>\n",
       "<polygon fill=\"none\" stroke=\"black\" points=\"1160,-27.5 1160,-63.5 1397,-63.5 1397,-27.5 1160,-27.5\"/>\n",
       "<text text-anchor=\"middle\" x=\"1173\" y=\"-41.8\" font-family=\"Times,serif\" font-size=\"14.00\">L</text>\n",
       "<polyline fill=\"none\" stroke=\"black\" points=\"1186,-27.5 1186,-63.5 \"/>\n",
       "<text text-anchor=\"middle\" x=\"1239.5\" y=\"-41.8\" font-family=\"Times,serif\" font-size=\"14.00\">data &#45;8.0000</text>\n",
       "<polyline fill=\"none\" stroke=\"black\" points=\"1293,-27.5 1293,-63.5 \"/>\n",
       "<text text-anchor=\"middle\" x=\"1345\" y=\"-41.8\" font-family=\"Times,serif\" font-size=\"14.00\">grad 0.0000</text>\n",
       "</g>\n",
       "<!-- 281472355165200* -->\n",
       "<g id=\"node5\" class=\"node\">\n",
       "<title>281472355165200*</title>\n",
       "<ellipse fill=\"none\" stroke=\"black\" cx=\"1097\" cy=\"-45.5\" rx=\"27\" ry=\"18\"/>\n",
       "<text text-anchor=\"middle\" x=\"1097\" y=\"-41.8\" font-family=\"Times,serif\" font-size=\"14.00\">*</text>\n",
       "</g>\n",
       "<!-- 281472355165200*&#45;&gt;281472355165200 -->\n",
       "<g id=\"edge2\" class=\"edge\">\n",
       "<title>281472355165200*&#45;&gt;281472355165200</title>\n",
       "<path fill=\"none\" stroke=\"black\" d=\"M1124.1,-45.5C1131.61,-45.5 1140.33,-45.5 1149.75,-45.5\"/>\n",
       "<polygon fill=\"black\" stroke=\"black\" points=\"1149.78,-49 1159.78,-45.5 1149.78,-42 1149.78,-49\"/>\n",
       "</g>\n",
       "<!-- 281472356753360 -->\n",
       "<g id=\"node6\" class=\"node\">\n",
       "<title>281472356753360</title>\n",
       "<polygon fill=\"none\" stroke=\"black\" points=\"3,-56.5 3,-92.5 234,-92.5 234,-56.5 3,-56.5\"/>\n",
       "<text text-anchor=\"middle\" x=\"15.5\" y=\"-70.8\" font-family=\"Times,serif\" font-size=\"14.00\">a</text>\n",
       "<polyline fill=\"none\" stroke=\"black\" points=\"28,-56.5 28,-92.5 \"/>\n",
       "<text text-anchor=\"middle\" x=\"79\" y=\"-70.8\" font-family=\"Times,serif\" font-size=\"14.00\">data 2.0000</text>\n",
       "<polyline fill=\"none\" stroke=\"black\" points=\"130,-56.5 130,-92.5 \"/>\n",
       "<text text-anchor=\"middle\" x=\"182\" y=\"-70.8\" font-family=\"Times,serif\" font-size=\"14.00\">grad 0.0000</text>\n",
       "</g>\n",
       "<!-- 281472356753360&#45;&gt;281472355103760* -->\n",
       "<g id=\"edge5\" class=\"edge\">\n",
       "<title>281472356753360&#45;&gt;281472355103760*</title>\n",
       "<path fill=\"none\" stroke=\"black\" d=\"M234.2,-91.75C244.55,-93.31 254.43,-94.8 263.21,-96.12\"/>\n",
       "<polygon fill=\"black\" stroke=\"black\" points=\"262.92,-99.61 273.33,-97.64 263.96,-92.69 262.92,-99.61\"/>\n",
       "</g>\n",
       "<!-- 281472355161680 -->\n",
       "<g id=\"node7\" class=\"node\">\n",
       "<title>281472355161680</title>\n",
       "<polygon fill=\"none\" stroke=\"black\" points=\"750,-55.5 750,-91.5 1034,-91.5 1034,-55.5 750,-55.5\"/>\n",
       "<text text-anchor=\"middle\" x=\"789\" y=\"-69.8\" font-family=\"Times,serif\" font-size=\"14.00\">a * b + c</text>\n",
       "<polyline fill=\"none\" stroke=\"black\" points=\"828,-55.5 828,-91.5 \"/>\n",
       "<text text-anchor=\"middle\" x=\"879\" y=\"-69.8\" font-family=\"Times,serif\" font-size=\"14.00\">data 4.0000</text>\n",
       "<polyline fill=\"none\" stroke=\"black\" points=\"930,-55.5 930,-91.5 \"/>\n",
       "<text text-anchor=\"middle\" x=\"982\" y=\"-69.8\" font-family=\"Times,serif\" font-size=\"14.00\">grad 0.0000</text>\n",
       "</g>\n",
       "<!-- 281472355161680&#45;&gt;281472355165200* -->\n",
       "<g id=\"edge8\" class=\"edge\">\n",
       "<title>281472355161680&#45;&gt;281472355165200*</title>\n",
       "<path fill=\"none\" stroke=\"black\" d=\"M1023.57,-55.49C1036.85,-53.66 1049.4,-51.93 1060.21,-50.44\"/>\n",
       "<polygon fill=\"black\" stroke=\"black\" points=\"1060.97,-53.86 1070.4,-49.03 1060.01,-46.93 1060.97,-53.86\"/>\n",
       "</g>\n",
       "<!-- 281472355161680+&#45;&gt;281472355161680 -->\n",
       "<g id=\"edge3\" class=\"edge\">\n",
       "<title>281472355161680+&#45;&gt;281472355161680</title>\n",
       "<path fill=\"none\" stroke=\"black\" d=\"M714.12,-73.5C721.59,-73.5 730.31,-73.5 739.8,-73.5\"/>\n",
       "<polygon fill=\"black\" stroke=\"black\" points=\"739.95,-77 749.95,-73.5 739.95,-70 739.95,-77\"/>\n",
       "</g>\n",
       "<!-- 281472356155536 -->\n",
       "<g id=\"node9\" class=\"node\">\n",
       "<title>281472356155536</title>\n",
       "<polygon fill=\"none\" stroke=\"black\" points=\"374,-28.5 374,-64.5 613,-64.5 613,-28.5 374,-28.5\"/>\n",
       "<text text-anchor=\"middle\" x=\"386\" y=\"-42.8\" font-family=\"Times,serif\" font-size=\"14.00\">c</text>\n",
       "<polyline fill=\"none\" stroke=\"black\" points=\"398,-28.5 398,-64.5 \"/>\n",
       "<text text-anchor=\"middle\" x=\"453.5\" y=\"-42.8\" font-family=\"Times,serif\" font-size=\"14.00\">data 10.0000</text>\n",
       "<polyline fill=\"none\" stroke=\"black\" points=\"509,-28.5 509,-64.5 \"/>\n",
       "<text text-anchor=\"middle\" x=\"561\" y=\"-42.8\" font-family=\"Times,serif\" font-size=\"14.00\">grad 0.0000</text>\n",
       "</g>\n",
       "<!-- 281472356155536&#45;&gt;281472355161680+ -->\n",
       "<g id=\"edge9\" class=\"edge\">\n",
       "<title>281472356155536&#45;&gt;281472355161680+</title>\n",
       "<path fill=\"none\" stroke=\"black\" d=\"M613.06,-63.22C626.51,-65.11 639.32,-66.92 650.35,-68.47\"/>\n",
       "<polygon fill=\"black\" stroke=\"black\" points=\"649.95,-71.95 660.34,-69.88 650.93,-65.02 649.95,-71.95\"/>\n",
       "</g>\n",
       "<!-- 281472355164112 -->\n",
       "<g id=\"node10\" class=\"node\">\n",
       "<title>281472355164112</title>\n",
       "<polygon fill=\"none\" stroke=\"black\" points=\"775.5,-0.5 775.5,-36.5 1008.5,-36.5 1008.5,-0.5 775.5,-0.5\"/>\n",
       "<text text-anchor=\"middle\" x=\"786.5\" y=\"-14.8\" font-family=\"Times,serif\" font-size=\"14.00\">f</text>\n",
       "<polyline fill=\"none\" stroke=\"black\" points=\"797.5,-0.5 797.5,-36.5 \"/>\n",
       "<text text-anchor=\"middle\" x=\"851\" y=\"-14.8\" font-family=\"Times,serif\" font-size=\"14.00\">data &#45;2.0000</text>\n",
       "<polyline fill=\"none\" stroke=\"black\" points=\"904.5,-0.5 904.5,-36.5 \"/>\n",
       "<text text-anchor=\"middle\" x=\"956.5\" y=\"-14.8\" font-family=\"Times,serif\" font-size=\"14.00\">grad 0.0000</text>\n",
       "</g>\n",
       "<!-- 281472355164112&#45;&gt;281472355165200* -->\n",
       "<g id=\"edge7\" class=\"edge\">\n",
       "<title>281472355164112&#45;&gt;281472355165200*</title>\n",
       "<path fill=\"none\" stroke=\"black\" d=\"M1008.73,-33.89C1027.36,-36.37 1045.34,-38.76 1060.08,-40.72\"/>\n",
       "<polygon fill=\"black\" stroke=\"black\" points=\"1059.84,-44.22 1070.21,-42.07 1060.76,-37.28 1059.84,-44.22\"/>\n",
       "</g>\n",
       "</g>\n",
       "</svg>\n"
      ],
      "text/plain": [
       "<graphviz.graphs.Digraph at 0xffff63bd45d0>"
      ]
     },
     "execution_count": 76,
     "metadata": {},
     "output_type": "execute_result"
    }
   ],
   "source": [
    "draw_dot(L)"
   ]
  },
  {
   "cell_type": "code",
   "execution_count": null,
   "metadata": {},
   "outputs": [],
   "source": [
    "from micrograd.engine import Value\n",
    "a = Value(-4.0)\n",
    "b = Value(2.0)\n",
    "c = a + b\n",
    "d = a*b + b**3\n"
   ]
  }
 ],
 "metadata": {
  "kernelspec": {
   "display_name": "nano_gpt",
   "language": "python",
   "name": "python3"
  },
  "language_info": {
   "codemirror_mode": {
    "name": "ipython",
    "version": 3
   },
   "file_extension": ".py",
   "mimetype": "text/x-python",
   "name": "python",
   "nbconvert_exporter": "python",
   "pygments_lexer": "ipython3",
   "version": "3.11.5"
  },
  "orig_nbformat": 4
 },
 "nbformat": 4,
 "nbformat_minor": 2
}
